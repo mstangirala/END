{
  "nbformat": 4,
  "nbformat_minor": 0,
  "metadata": {
    "colab": {
      "name": "Model1_Ambig.ipynb",
      "provenance": []
    },
    "kernelspec": {
      "name": "python3",
      "display_name": "Python 3"
    },
    "accelerator": "GPU"
  },
  "cells": [
    {
      "cell_type": "code",
      "metadata": {
        "id": "H5hNnlFI5IIa"
      },
      "source": [
        "import numpy as np\r\n",
        "import pandas as pd \r\n",
        "import torch\r\n",
        "import torchtext\r\n",
        "from torchtext.data import Field\r\n",
        "import time \r\n",
        "import torch.nn as nn\r\n",
        "import torch\r\n",
        "import torch.nn as nn\r\n",
        "import torch.optim as optim\r\n",
        "import torch.nn.functional as F\r\n",
        "\r\n",
        "from torchtext.datasets import Multi30k\r\n",
        "from torchtext.data import Field, BucketIterator\r\n",
        "\r\n",
        "import spacy\r\n",
        "import numpy as np\r\n",
        "\r\n",
        "import random\r\n",
        "import math\r\n",
        "import time"
      ],
      "execution_count": 29,
      "outputs": []
    },
    {
      "cell_type": "code",
      "metadata": {
        "id": "0aRVNJYj8Fkh"
      },
      "source": [
        "df = pd.read_json('train.json')"
      ],
      "execution_count": 30,
      "outputs": []
    },
    {
      "cell_type": "code",
      "metadata": {
        "colab": {
          "base_uri": "https://localhost:8080/",
          "height": 239
        },
        "id": "5BQtzi7A8GR0",
        "outputId": "04d8121b-b94e-4bee-9d14-09a260831a98"
      },
      "source": [
        "import json\r\n",
        "import csv\r\n",
        "\r\n",
        "with open('train.json') as json_file:\r\n",
        "  data = json.load(json_file)\r\n",
        "\r\n",
        "print(data)\r\n",
        "\r\n",
        "'''\r\n",
        "chat_data = data['viewed_doc_titles']\r\n",
        "data_file = open('data_file.csv','w')\r\n",
        "csv_writer = csv.writer(data_file)\r\n",
        "\r\n",
        "count = 0\r\n",
        "  \r\n",
        "for emp in data_chat: \r\n",
        "    if count == 0: \r\n",
        "  \r\n",
        "        # Writing headers of CSV file \r\n",
        "        header = emp.keys() \r\n",
        "        csv_writer.writerow(header) \r\n",
        "        count += 1\r\n",
        "  \r\n",
        "    # Writing data of CSV file \r\n",
        "    csv_writer.writerow(emp.values()) \r\n",
        "  \r\n",
        "data_file.close() \r\n",
        "\r\n",
        "'''"
      ],
      "execution_count": 31,
      "outputs": [
        {
          "output_type": "stream",
          "text": [
            "IOPub data rate exceeded.\n",
            "The notebook server will temporarily stop sending output\n",
            "to the client in order to avoid crashing it.\n",
            "To change this limit, set the config variable\n",
            "`--NotebookApp.iopub_data_rate_limit`.\n",
            "\n",
            "Current values:\n",
            "NotebookApp.iopub_data_rate_limit=1000000.0 (bytes/sec)\n",
            "NotebookApp.rate_limit_window=3.0 (secs)\n",
            "\n"
          ],
          "name": "stderr"
        },
        {
          "output_type": "execute_result",
          "data": {
            "application/vnd.google.colaboratory.intrinsic+json": {
              "type": "string"
            },
            "text/plain": [
              "\"\\nchat_data = data['viewed_doc_titles']\\ndata_file = open('data_file.csv','w')\\ncsv_writer = csv.writer(data_file)\\n\\ncount = 0\\n  \\nfor emp in data_chat: \\n    if count == 0: \\n  \\n        # Writing headers of CSV file \\n        header = emp.keys() \\n        csv_writer.writerow(header) \\n        count += 1\\n  \\n    # Writing data of CSV file \\n    csv_writer.writerow(emp.values()) \\n  \\ndata_file.close() \\n\\n\""
            ]
          },
          "metadata": {
            "tags": []
          },
          "execution_count": 31
        }
      ]
    },
    {
      "cell_type": "code",
      "metadata": {
        "colab": {
          "base_uri": "https://localhost:8080/",
          "height": 289
        },
        "id": "mGomrm6E8I9M",
        "outputId": "21d5ca3c-944a-48ef-cfc3-029d98ff5595"
      },
      "source": [
        "df = pd.read_json('train.json')\r\n",
        "df.columns\r\n",
        "df.head(5)"
      ],
      "execution_count": 32,
      "outputs": [
        {
          "output_type": "execute_result",
          "data": {
            "text/html": [
              "<div>\n",
              "<style scoped>\n",
              "    .dataframe tbody tr th:only-of-type {\n",
              "        vertical-align: middle;\n",
              "    }\n",
              "\n",
              "    .dataframe tbody tr th {\n",
              "        vertical-align: top;\n",
              "    }\n",
              "\n",
              "    .dataframe thead th {\n",
              "        text-align: right;\n",
              "    }\n",
              "</style>\n",
              "<table border=\"1\" class=\"dataframe\">\n",
              "  <thead>\n",
              "    <tr style=\"text-align: right;\">\n",
              "      <th></th>\n",
              "      <th>viewed_doc_titles</th>\n",
              "      <th>used_queries</th>\n",
              "      <th>annotations</th>\n",
              "      <th>nq_answer</th>\n",
              "      <th>id</th>\n",
              "      <th>nq_doc_title</th>\n",
              "      <th>question</th>\n",
              "    </tr>\n",
              "  </thead>\n",
              "  <tbody>\n",
              "    <tr>\n",
              "      <th>0</th>\n",
              "      <td>[The Simpsons]</td>\n",
              "      <td>[{'query': 'When did the simpsons first air on...</td>\n",
              "      <td>[{'type': 'multipleQAs', 'qaPairs': [{'questio...</td>\n",
              "      <td>[December 17 , 1989]</td>\n",
              "      <td>-4469503464110108160</td>\n",
              "      <td>The Simpsons</td>\n",
              "      <td>When did the simpsons first air on television?</td>\n",
              "    </tr>\n",
              "    <tr>\n",
              "      <th>1</th>\n",
              "      <td>[John Adams (miniseries)]</td>\n",
              "      <td>[{'query': 'John adams tv', 'results': [{'titl...</td>\n",
              "      <td>[{'type': 'singleAnswer', 'answer': ['David Mo...</td>\n",
              "      <td>[David Morse]</td>\n",
              "      <td>4790842463458965504</td>\n",
              "      <td>John Adams (miniseries)</td>\n",
              "      <td>Who played george washington in the john adams...</td>\n",
              "    </tr>\n",
              "    <tr>\n",
              "      <th>2</th>\n",
              "      <td>[Marriage age in the United States]</td>\n",
              "      <td>[{'query': 'legal age of marriage in usa', 're...</td>\n",
              "      <td>[{'type': 'multipleQAs', 'qaPairs': [{'questio...</td>\n",
              "      <td>[18, Nebraska ( 19 ), Mississippi ( 21 )]</td>\n",
              "      <td>-6631915997977101312</td>\n",
              "      <td>Age of marriage in the United States</td>\n",
              "      <td>What is the legal age of marriage in usa?</td>\n",
              "    </tr>\n",
              "    <tr>\n",
              "      <th>3</th>\n",
              "      <td>[Barefoot in the Park, Barefoot in the Park (f...</td>\n",
              "      <td>[{'query': 'Who starred in barefoot in the par...</td>\n",
              "      <td>[{'type': 'multipleQAs', 'qaPairs': [{'questio...</td>\n",
              "      <td>[Robert Redford, Elizabeth Ashley]</td>\n",
              "      <td>-3098213414945179648</td>\n",
              "      <td>Barefoot in the Park</td>\n",
              "      <td>Who starred in barefoot in the park on broadway?</td>\n",
              "    </tr>\n",
              "    <tr>\n",
              "      <th>4</th>\n",
              "      <td>[Timeline of the Manhattan Project, Manhattan ...</td>\n",
              "      <td>[{'query': 'When did the manhattan project beg...</td>\n",
              "      <td>[{'type': 'multipleQAs', 'qaPairs': [{'questio...</td>\n",
              "      <td>[From 1942 to 1946]</td>\n",
              "      <td>-927805218867163520</td>\n",
              "      <td>Timeline of the Manhattan Project</td>\n",
              "      <td>When did the manhattan project began and end?</td>\n",
              "    </tr>\n",
              "  </tbody>\n",
              "</table>\n",
              "</div>"
            ],
            "text/plain": [
              "                                   viewed_doc_titles  ...                                           question\n",
              "0                                     [The Simpsons]  ...     When did the simpsons first air on television?\n",
              "1                          [John Adams (miniseries)]  ...  Who played george washington in the john adams...\n",
              "2                [Marriage age in the United States]  ...          What is the legal age of marriage in usa?\n",
              "3  [Barefoot in the Park, Barefoot in the Park (f...  ...   Who starred in barefoot in the park on broadway?\n",
              "4  [Timeline of the Manhattan Project, Manhattan ...  ...      When did the manhattan project began and end?\n",
              "\n",
              "[5 rows x 7 columns]"
            ]
          },
          "metadata": {
            "tags": []
          },
          "execution_count": 32
        }
      ]
    },
    {
      "cell_type": "code",
      "metadata": {
        "colab": {
          "base_uri": "https://localhost:8080/"
        },
        "id": "x8ujxMfaCBio",
        "outputId": "387d02b0-1de2-48ab-fd0d-a1b96da38d4a"
      },
      "source": [
        "df.columns"
      ],
      "execution_count": 33,
      "outputs": [
        {
          "output_type": "execute_result",
          "data": {
            "text/plain": [
              "Index(['viewed_doc_titles', 'used_queries', 'annotations', 'nq_answer', 'id',\n",
              "       'nq_doc_title', 'question'],\n",
              "      dtype='object')"
            ]
          },
          "metadata": {
            "tags": []
          },
          "execution_count": 33
        }
      ]
    },
    {
      "cell_type": "code",
      "metadata": {
        "id": "Wr_4_NhG8O2_"
      },
      "source": [
        "data = df[['question','nq_answer']]\r\n",
        "data.to_csv('train_data.csv',index=False)"
      ],
      "execution_count": 34,
      "outputs": []
    },
    {
      "cell_type": "code",
      "metadata": {
        "colab": {
          "base_uri": "https://localhost:8080/",
          "height": 204
        },
        "id": "JbpTnbUO8ScE",
        "outputId": "30dd9550-d3b0-41bc-f8bf-6d31cc075d00"
      },
      "source": [
        "df1 = pd.read_csv('train_data.csv')\r\n",
        "df1.head(5)"
      ],
      "execution_count": 35,
      "outputs": [
        {
          "output_type": "execute_result",
          "data": {
            "text/html": [
              "<div>\n",
              "<style scoped>\n",
              "    .dataframe tbody tr th:only-of-type {\n",
              "        vertical-align: middle;\n",
              "    }\n",
              "\n",
              "    .dataframe tbody tr th {\n",
              "        vertical-align: top;\n",
              "    }\n",
              "\n",
              "    .dataframe thead th {\n",
              "        text-align: right;\n",
              "    }\n",
              "</style>\n",
              "<table border=\"1\" class=\"dataframe\">\n",
              "  <thead>\n",
              "    <tr style=\"text-align: right;\">\n",
              "      <th></th>\n",
              "      <th>question</th>\n",
              "      <th>nq_answer</th>\n",
              "    </tr>\n",
              "  </thead>\n",
              "  <tbody>\n",
              "    <tr>\n",
              "      <th>0</th>\n",
              "      <td>When did the simpsons first air on television?</td>\n",
              "      <td>['December 17 , 1989']</td>\n",
              "    </tr>\n",
              "    <tr>\n",
              "      <th>1</th>\n",
              "      <td>Who played george washington in the john adams...</td>\n",
              "      <td>['David Morse']</td>\n",
              "    </tr>\n",
              "    <tr>\n",
              "      <th>2</th>\n",
              "      <td>What is the legal age of marriage in usa?</td>\n",
              "      <td>['18', 'Nebraska ( 19 )', 'Mississippi ( 21 )']</td>\n",
              "    </tr>\n",
              "    <tr>\n",
              "      <th>3</th>\n",
              "      <td>Who starred in barefoot in the park on broadway?</td>\n",
              "      <td>['Robert Redford', 'Elizabeth Ashley']</td>\n",
              "    </tr>\n",
              "    <tr>\n",
              "      <th>4</th>\n",
              "      <td>When did the manhattan project began and end?</td>\n",
              "      <td>['From 1942 to 1946']</td>\n",
              "    </tr>\n",
              "  </tbody>\n",
              "</table>\n",
              "</div>"
            ],
            "text/plain": [
              "                                            question                                        nq_answer\n",
              "0     When did the simpsons first air on television?                           ['December 17 , 1989']\n",
              "1  Who played george washington in the john adams...                                  ['David Morse']\n",
              "2          What is the legal age of marriage in usa?  ['18', 'Nebraska ( 19 )', 'Mississippi ( 21 )']\n",
              "3   Who starred in barefoot in the park on broadway?           ['Robert Redford', 'Elizabeth Ashley']\n",
              "4      When did the manhattan project began and end?                            ['From 1942 to 1946']"
            ]
          },
          "metadata": {
            "tags": []
          },
          "execution_count": 35
        }
      ]
    },
    {
      "cell_type": "code",
      "metadata": {
        "colab": {
          "base_uri": "https://localhost:8080/",
          "height": 419
        },
        "id": "2W3Hisdj8Ut0",
        "outputId": "b0146195-8d52-4b0c-8ed8-0f2d69f33fae"
      },
      "source": [
        "data"
      ],
      "execution_count": 36,
      "outputs": [
        {
          "output_type": "execute_result",
          "data": {
            "text/html": [
              "<div>\n",
              "<style scoped>\n",
              "    .dataframe tbody tr th:only-of-type {\n",
              "        vertical-align: middle;\n",
              "    }\n",
              "\n",
              "    .dataframe tbody tr th {\n",
              "        vertical-align: top;\n",
              "    }\n",
              "\n",
              "    .dataframe thead th {\n",
              "        text-align: right;\n",
              "    }\n",
              "</style>\n",
              "<table border=\"1\" class=\"dataframe\">\n",
              "  <thead>\n",
              "    <tr style=\"text-align: right;\">\n",
              "      <th></th>\n",
              "      <th>question</th>\n",
              "      <th>nq_answer</th>\n",
              "    </tr>\n",
              "  </thead>\n",
              "  <tbody>\n",
              "    <tr>\n",
              "      <th>0</th>\n",
              "      <td>When did the simpsons first air on television?</td>\n",
              "      <td>[December 17 , 1989]</td>\n",
              "    </tr>\n",
              "    <tr>\n",
              "      <th>1</th>\n",
              "      <td>Who played george washington in the john adams...</td>\n",
              "      <td>[David Morse]</td>\n",
              "    </tr>\n",
              "    <tr>\n",
              "      <th>2</th>\n",
              "      <td>What is the legal age of marriage in usa?</td>\n",
              "      <td>[18, Nebraska ( 19 ), Mississippi ( 21 )]</td>\n",
              "    </tr>\n",
              "    <tr>\n",
              "      <th>3</th>\n",
              "      <td>Who starred in barefoot in the park on broadway?</td>\n",
              "      <td>[Robert Redford, Elizabeth Ashley]</td>\n",
              "    </tr>\n",
              "    <tr>\n",
              "      <th>4</th>\n",
              "      <td>When did the manhattan project began and end?</td>\n",
              "      <td>[From 1942 to 1946]</td>\n",
              "    </tr>\n",
              "    <tr>\n",
              "      <th>...</th>\n",
              "      <td>...</td>\n",
              "      <td>...</td>\n",
              "    </tr>\n",
              "    <tr>\n",
              "      <th>10031</th>\n",
              "      <td>When do the summer holidays start for schools?</td>\n",
              "      <td>[between late May and mid-June]</td>\n",
              "    </tr>\n",
              "    <tr>\n",
              "      <th>10032</th>\n",
              "      <td>Who is the band in the movie 10 things i hate ...</td>\n",
              "      <td>[Save Ferris]</td>\n",
              "    </tr>\n",
              "    <tr>\n",
              "      <th>10033</th>\n",
              "      <td>Who was the last person in the uk to be executed?</td>\n",
              "      <td>[1964]</td>\n",
              "    </tr>\n",
              "    <tr>\n",
              "      <th>10034</th>\n",
              "      <td>Who does wonder woman end up with in the comics?</td>\n",
              "      <td>[Steve Trevor]</td>\n",
              "    </tr>\n",
              "    <tr>\n",
              "      <th>10035</th>\n",
              "      <td>When were the first pair of jordans released?</td>\n",
              "      <td>[late 1984]</td>\n",
              "    </tr>\n",
              "  </tbody>\n",
              "</table>\n",
              "<p>10036 rows × 2 columns</p>\n",
              "</div>"
            ],
            "text/plain": [
              "                                                question                                  nq_answer\n",
              "0         When did the simpsons first air on television?                       [December 17 , 1989]\n",
              "1      Who played george washington in the john adams...                              [David Morse]\n",
              "2              What is the legal age of marriage in usa?  [18, Nebraska ( 19 ), Mississippi ( 21 )]\n",
              "3       Who starred in barefoot in the park on broadway?         [Robert Redford, Elizabeth Ashley]\n",
              "4          When did the manhattan project began and end?                        [From 1942 to 1946]\n",
              "...                                                  ...                                        ...\n",
              "10031     When do the summer holidays start for schools?            [between late May and mid-June]\n",
              "10032  Who is the band in the movie 10 things i hate ...                              [Save Ferris]\n",
              "10033  Who was the last person in the uk to be executed?                                     [1964]\n",
              "10034   Who does wonder woman end up with in the comics?                             [Steve Trevor]\n",
              "10035      When were the first pair of jordans released?                                [late 1984]\n",
              "\n",
              "[10036 rows x 2 columns]"
            ]
          },
          "metadata": {
            "tags": []
          },
          "execution_count": 36
        }
      ]
    },
    {
      "cell_type": "code",
      "metadata": {
        "id": "3En5335W8YA0"
      },
      "source": [
        "TEXT = torchtext.data.Field(\r\n",
        "    tokenize='spacy',\r\n",
        "    lower=True,\r\n",
        "    init_token='<sos>', \r\n",
        "    eos_token='<eos>'\r\n",
        ")\r\n",
        "\r\n",
        "fields = [('question', TEXT), ('nq_answer', TEXT)]"
      ],
      "execution_count": 37,
      "outputs": []
    },
    {
      "cell_type": "code",
      "metadata": {
        "colab": {
          "base_uri": "https://localhost:8080/"
        },
        "id": "wC5EnJE48anw",
        "outputId": "b8d80483-5bc0-4a82-8a01-a5c09dd13e5c"
      },
      "source": [
        "start = time.time()\r\n",
        "dataset = torchtext.data.TabularDataset(\r\n",
        "    path='train_data.csv',\r\n",
        "    format='CSV',\r\n",
        "    fields=fields,\r\n",
        "    skip_header=True\r\n",
        ")\r\n",
        "end = time.time()\r\n",
        "print(f'Duration: {end - start}')"
      ],
      "execution_count": 38,
      "outputs": [
        {
          "output_type": "stream",
          "text": [
            "Duration: 1.4990887641906738\n"
          ],
          "name": "stdout"
        }
      ]
    },
    {
      "cell_type": "code",
      "metadata": {
        "colab": {
          "base_uri": "https://localhost:8080/"
        },
        "id": "kRilt42Z8ePV",
        "outputId": "afbe90ce-0876-48db-c1ad-fa8c6c99565e"
      },
      "source": [
        "train_data, valid_data = dataset.split(split_ratio=[0.85, 0.15])\r\n",
        "print(len(train_data), len(valid_data))"
      ],
      "execution_count": 39,
      "outputs": [
        {
          "output_type": "stream",
          "text": [
            "8531 1505\n"
          ],
          "name": "stdout"
        }
      ]
    },
    {
      "cell_type": "code",
      "metadata": {
        "colab": {
          "base_uri": "https://localhost:8080/"
        },
        "id": "XhAGXRQi8hhn",
        "outputId": "1a04faaa-0775-44fd-aae1-4a6330069a68"
      },
      "source": [
        "vars(train_data.examples[0])"
      ],
      "execution_count": 40,
      "outputs": [
        {
          "output_type": "execute_result",
          "data": {
            "text/plain": [
              "{'nq_answer': ['[', \"'\", 'isildur', \"'\", ']'],\n",
              " 'question': ['who', 'dies', 'first', 'in', 'lord', 'of', 'the', 'rings', '?']}"
            ]
          },
          "metadata": {
            "tags": []
          },
          "execution_count": 40
        }
      ]
    },
    {
      "cell_type": "code",
      "metadata": {
        "colab": {
          "base_uri": "https://localhost:8080/"
        },
        "id": "Lf1ORhmk8kGP",
        "outputId": "6f97bed1-ad85-47c5-90bb-03ea5914ff95"
      },
      "source": [
        "MAX_VOCAB_SIZE = 10_000\r\n",
        "\r\n",
        "TEXT.build_vocab(train_data, max_size=MAX_VOCAB_SIZE)\r\n",
        "\r\n",
        "print(f'Size of vocab: {len(TEXT.vocab)}')"
      ],
      "execution_count": 41,
      "outputs": [
        {
          "output_type": "stream",
          "text": [
            "Size of vocab: 10004\n"
          ],
          "name": "stdout"
        }
      ]
    },
    {
      "cell_type": "code",
      "metadata": {
        "colab": {
          "base_uri": "https://localhost:8080/"
        },
        "id": "GPuEBJDx8mYU",
        "outputId": "24c306ca-6e7f-4072-bb34-58b07b078198"
      },
      "source": [
        "device = torch.device('cuda' if torch.cuda.is_available() else 'cpu')\r\n",
        "device"
      ],
      "execution_count": 42,
      "outputs": [
        {
          "output_type": "execute_result",
          "data": {
            "text/plain": [
              "device(type='cuda')"
            ]
          },
          "metadata": {
            "tags": []
          },
          "execution_count": 42
        }
      ]
    },
    {
      "cell_type": "code",
      "metadata": {
        "id": "cu9iM7Kz8r6D"
      },
      "source": [
        "BATCH_SIZE = 128\r\n",
        "\r\n",
        "train_iterator, valid_iterator = torchtext.data.BucketIterator.splits(\r\n",
        "    (train_data, valid_data),\r\n",
        "    batch_size = BATCH_SIZE,\r\n",
        "    sort_key=lambda x: len(x.question),\r\n",
        "    device = device\r\n",
        ")"
      ],
      "execution_count": 43,
      "outputs": []
    },
    {
      "cell_type": "code",
      "metadata": {
        "id": "ty2dyHfu8zHb"
      },
      "source": [
        "class Encoder(nn.Module):\r\n",
        "    def __init__(self, input_dim, emb_dim, hid_dim, dropout):\r\n",
        "        super().__init__()\r\n",
        "\r\n",
        "        self.hid_dim = hid_dim\r\n",
        "        \r\n",
        "        self.embedding = nn.Embedding(input_dim, emb_dim) #no dropout as only one layer!\r\n",
        "        \r\n",
        "        self.rnn = nn.GRU(emb_dim, hid_dim)\r\n",
        "        \r\n",
        "        self.dropout = nn.Dropout(dropout)\r\n",
        "        \r\n",
        "    def forward(self, src):\r\n",
        "        \r\n",
        "        #src = [src len, batch size]\r\n",
        "        \r\n",
        "        embedded = self.dropout(self.embedding(src))\r\n",
        "        \r\n",
        "        #embedded = [src len, batch size, emb dim]\r\n",
        "        \r\n",
        "        outputs, hidden = self.rnn(embedded) #no cell state!\r\n",
        "        \r\n",
        "        #outputs = [src len, batch size, hid dim * n directions]\r\n",
        "        #hidden = [n layers * n directions, batch size, hid dim]\r\n",
        "        \r\n",
        "        #outputs are always from the top hidden layer\r\n",
        "        \r\n",
        "        return hidden"
      ],
      "execution_count": 44,
      "outputs": []
    },
    {
      "cell_type": "code",
      "metadata": {
        "id": "tQMcnCY382Bh"
      },
      "source": [
        "class Decoder(nn.Module):\r\n",
        "    def __init__(self, output_dim, emb_dim, hid_dim, dropout):\r\n",
        "        super().__init__()\r\n",
        "\r\n",
        "        self.hid_dim = hid_dim\r\n",
        "        self.output_dim = output_dim\r\n",
        "        \r\n",
        "        self.embedding = nn.Embedding(output_dim, emb_dim)\r\n",
        "        \r\n",
        "        self.rnn = nn.GRU(emb_dim + hid_dim, hid_dim)\r\n",
        "        \r\n",
        "        self.fc_out = nn.Linear(emb_dim + hid_dim * 2, output_dim)\r\n",
        "        \r\n",
        "        self.dropout = nn.Dropout(dropout)\r\n",
        "        \r\n",
        "    def forward(self, input, hidden, context):\r\n",
        "        \r\n",
        "        #input = [batch size]\r\n",
        "        #hidden = [n layers * n directions, batch size, hid dim]\r\n",
        "        #context = [n layers * n directions, batch size, hid dim]\r\n",
        "        \r\n",
        "        #n layers and n directions in the decoder will both always be 1, therefore:\r\n",
        "        #hidden = [1, batch size, hid dim]\r\n",
        "        #context = [1, batch size, hid dim]\r\n",
        "        \r\n",
        "        input = input.unsqueeze(0)\r\n",
        "        \r\n",
        "        #input = [1, batch size]\r\n",
        "        \r\n",
        "        embedded = self.dropout(self.embedding(input))\r\n",
        "        \r\n",
        "        #embedded = [1, batch size, emb dim]\r\n",
        "                \r\n",
        "        emb_con = torch.cat((embedded, context), dim = 2)\r\n",
        "            \r\n",
        "        #emb_con = [1, batch size, emb dim + hid dim]\r\n",
        "            \r\n",
        "        output, hidden = self.rnn(emb_con, hidden)\r\n",
        "        \r\n",
        "        #output = [seq len, batch size, hid dim * n directions]\r\n",
        "        #hidden = [n layers * n directions, batch size, hid dim]\r\n",
        "        \r\n",
        "        #seq len, n layers and n directions will always be 1 in the decoder, therefore:\r\n",
        "        #output = [1, batch size, hid dim]\r\n",
        "        #hidden = [1, batch size, hid dim]\r\n",
        "        \r\n",
        "        output = torch.cat((embedded.squeeze(0), hidden.squeeze(0), context.squeeze(0)), \r\n",
        "                           dim = 1)\r\n",
        "        \r\n",
        "        #output = [batch size, emb dim + hid dim * 2]\r\n",
        "        \r\n",
        "        prediction = self.fc_out(output)\r\n",
        "        \r\n",
        "        #prediction = [batch size, output dim]\r\n",
        "        \r\n",
        "        return prediction, hidden"
      ],
      "execution_count": 45,
      "outputs": []
    },
    {
      "cell_type": "code",
      "metadata": {
        "id": "G2pyghqU85Xw"
      },
      "source": [
        "class Seq2Seq(nn.Module):\r\n",
        "    def __init__(self, encoder, decoder, device):\r\n",
        "        super().__init__()\r\n",
        "        \r\n",
        "        self.encoder = encoder\r\n",
        "        self.decoder = decoder\r\n",
        "        self.device = device\r\n",
        "        \r\n",
        "        assert encoder.hid_dim == decoder.hid_dim, \\\r\n",
        "            \"Hidden dimensions of encoder and decoder must be equal!\"\r\n",
        "        \r\n",
        "    def forward(self, src, trg, teacher_forcing_ratio = 0.5):\r\n",
        "        \r\n",
        "        #src = [src len, batch size]\r\n",
        "        #trg = [trg len, batch size]\r\n",
        "        #teacher_forcing_ratio is probability to use teacher forcing\r\n",
        "        #e.g. if teacher_forcing_ratio is 0.75 we use ground-truth inputs 75% of the time\r\n",
        "        \r\n",
        "        batch_size = trg.shape[1]\r\n",
        "        trg_len = trg.shape[0]\r\n",
        "        trg_vocab_size = self.decoder.output_dim\r\n",
        "        \r\n",
        "        #tensor to store decoder outputs\r\n",
        "        outputs = torch.zeros(trg_len, batch_size, trg_vocab_size).to(self.device)\r\n",
        "        \r\n",
        "        #last hidden state of the encoder is the context\r\n",
        "        context = self.encoder(src)\r\n",
        "        \r\n",
        "        #context also used as the initial hidden state of the decoder\r\n",
        "        hidden = context\r\n",
        "        \r\n",
        "        #first input to the decoder is the <sos> tokens\r\n",
        "        input = trg[0,:]\r\n",
        "        \r\n",
        "        for t in range(1, trg_len):\r\n",
        "            \r\n",
        "            #insert input token embedding, previous hidden state and the context state\r\n",
        "            #receive output tensor (predictions) and new hidden state\r\n",
        "            output, hidden = self.decoder(input, hidden, context)\r\n",
        "            \r\n",
        "            #place predictions in a tensor holding predictions for each token\r\n",
        "            outputs[t] = output\r\n",
        "            \r\n",
        "            #decide if we are going to use teacher forcing or not\r\n",
        "            teacher_force = random.random() < teacher_forcing_ratio\r\n",
        "            \r\n",
        "            #get the highest predicted token from our predictions\r\n",
        "            top1 = output.argmax(1) \r\n",
        "            \r\n",
        "            #if teacher forcing, use actual next token as next input\r\n",
        "            #if not, use predicted token\r\n",
        "            input = trg[t] if teacher_force else top1\r\n",
        "\r\n",
        "        return outputs"
      ],
      "execution_count": 46,
      "outputs": []
    },
    {
      "cell_type": "code",
      "metadata": {
        "id": "HPXBZ8F79NHR"
      },
      "source": [
        "INPUT_DIM = len(TEXT.vocab)\r\n",
        "OUTPUT_DIM = len(TEXT.vocab)\r\n",
        "ENC_EMB_DIM = 128\r\n",
        "DEC_EMB_DIM = 128\r\n",
        "HID_DIM = 256\r\n",
        "ENC_DROPOUT = 0.5\r\n",
        "DEC_DROPOUT = 0.5\r\n",
        "\r\n",
        "enc = Encoder(INPUT_DIM, ENC_EMB_DIM, HID_DIM, ENC_DROPOUT)\r\n",
        "dec = Decoder(OUTPUT_DIM, DEC_EMB_DIM, HID_DIM, DEC_DROPOUT)\r\n",
        "\r\n",
        "device = torch.device('cuda' if torch.cuda.is_available() else 'cpu')\r\n",
        "\r\n",
        "model = Seq2Seq(enc, dec, device).to(device)"
      ],
      "execution_count": 47,
      "outputs": []
    },
    {
      "cell_type": "code",
      "metadata": {
        "colab": {
          "base_uri": "https://localhost:8080/"
        },
        "id": "iXVN5R049QFd",
        "outputId": "a4578cea-4bbc-4eb3-a363-e979c3b1eb86"
      },
      "source": [
        "def init_weights(m):\r\n",
        "    for name, param in m.named_parameters():\r\n",
        "        nn.init.normal_(param.data, mean=0, std=0.01)\r\n",
        "        \r\n",
        "model.apply(init_weights)"
      ],
      "execution_count": 48,
      "outputs": [
        {
          "output_type": "execute_result",
          "data": {
            "text/plain": [
              "Seq2Seq(\n",
              "  (encoder): Encoder(\n",
              "    (embedding): Embedding(10004, 128)\n",
              "    (rnn): GRU(128, 256)\n",
              "    (dropout): Dropout(p=0.5, inplace=False)\n",
              "  )\n",
              "  (decoder): Decoder(\n",
              "    (embedding): Embedding(10004, 128)\n",
              "    (rnn): GRU(384, 256)\n",
              "    (fc_out): Linear(in_features=640, out_features=10004, bias=True)\n",
              "    (dropout): Dropout(p=0.5, inplace=False)\n",
              "  )\n",
              ")"
            ]
          },
          "metadata": {
            "tags": []
          },
          "execution_count": 48
        }
      ]
    },
    {
      "cell_type": "code",
      "metadata": {
        "colab": {
          "base_uri": "https://localhost:8080/"
        },
        "id": "9rlQGSS99UD4",
        "outputId": "e50983bb-524d-4ed1-809b-6450cefdaaea"
      },
      "source": [
        "def count_parameters(model):\r\n",
        "    return sum(p.numel() for p in model.parameters() if p.requires_grad)\r\n",
        "\r\n",
        "print(f'The model has {count_parameters(model):,} trainable parameters')"
      ],
      "execution_count": 49,
      "outputs": [
        {
          "output_type": "stream",
          "text": [
            "The model has 9,763,092 trainable parameters\n"
          ],
          "name": "stdout"
        }
      ]
    },
    {
      "cell_type": "code",
      "metadata": {
        "id": "D_Nz8pKX9XGg"
      },
      "source": [
        "optimizer = optim.Adam(model.parameters())"
      ],
      "execution_count": 50,
      "outputs": []
    },
    {
      "cell_type": "code",
      "metadata": {
        "id": "vKermaa49Zz_"
      },
      "source": [
        "TRG_PAD_IDX = TEXT.vocab.stoi[TEXT.pad_token]\r\n",
        "\r\n",
        "criterion = nn.CrossEntropyLoss(ignore_index = TRG_PAD_IDX)"
      ],
      "execution_count": 51,
      "outputs": []
    },
    {
      "cell_type": "code",
      "metadata": {
        "id": "75KCB4189dB8"
      },
      "source": [
        "def train(model, iterator, optimizer, criterion, clip):\r\n",
        "    \r\n",
        "    model.train()\r\n",
        "    \r\n",
        "    epoch_loss = 0\r\n",
        "    \r\n",
        "    for i, batch in enumerate(iterator):\r\n",
        "        \r\n",
        "        src = batch.question\r\n",
        "        trg = batch.nq_answer\r\n",
        "        \r\n",
        "        optimizer.zero_grad()\r\n",
        "        \r\n",
        "        output = model(src, trg)\r\n",
        "        \r\n",
        "        #trg = [trg len, batch size]\r\n",
        "        #output = [trg len, batch size, output dim]\r\n",
        "        \r\n",
        "        output_dim = output.shape[-1]\r\n",
        "        \r\n",
        "        output = output[1:].view(-1, output_dim)\r\n",
        "        trg = trg[1:].view(-1)\r\n",
        "        \r\n",
        "        #trg = [(trg len - 1) * batch size]\r\n",
        "        #output = [(trg len - 1) * batch size, output dim]\r\n",
        "        \r\n",
        "        loss = criterion(output, trg)\r\n",
        "        \r\n",
        "        loss.backward()\r\n",
        "        \r\n",
        "        torch.nn.utils.clip_grad_norm_(model.parameters(), clip)\r\n",
        "        \r\n",
        "        optimizer.step()\r\n",
        "        \r\n",
        "        epoch_loss += loss.item()\r\n",
        "        \r\n",
        "    return epoch_loss / len(iterator)"
      ],
      "execution_count": 52,
      "outputs": []
    },
    {
      "cell_type": "code",
      "metadata": {
        "id": "izCQUkSn9fuy"
      },
      "source": [
        "def evaluate(model, iterator, criterion):\r\n",
        "    \r\n",
        "    model.eval()\r\n",
        "    \r\n",
        "    epoch_loss = 0\r\n",
        "    \r\n",
        "    with torch.no_grad():\r\n",
        "    \r\n",
        "        for i, batch in enumerate(iterator):\r\n",
        "\r\n",
        "            src = batch.question\r\n",
        "            trg = batch.nq_answer\r\n",
        "\r\n",
        "            output = model(src, trg, 0) #turn off teacher forcing\r\n",
        "\r\n",
        "            #trg = [trg len, batch size]\r\n",
        "            #output = [trg len, batch size, output dim]\r\n",
        "\r\n",
        "            output_dim = output.shape[-1]\r\n",
        "            \r\n",
        "            output = output[1:].view(-1, output_dim)\r\n",
        "            trg = trg[1:].view(-1)\r\n",
        "\r\n",
        "            #trg = [(trg len - 1) * batch size]\r\n",
        "            #output = [(trg len - 1) * batch size, output dim]\r\n",
        "\r\n",
        "            loss = criterion(output, trg)\r\n",
        "\r\n",
        "            epoch_loss += loss.item()\r\n",
        "        \r\n",
        "    return epoch_loss / len(iterator)"
      ],
      "execution_count": 53,
      "outputs": []
    },
    {
      "cell_type": "code",
      "metadata": {
        "id": "F1ehn2ph9ip3"
      },
      "source": [
        "def epoch_time(start_time, end_time):\r\n",
        "    elapsed_time = end_time - start_time\r\n",
        "    elapsed_mins = int(elapsed_time / 60)\r\n",
        "    elapsed_secs = int(elapsed_time - (elapsed_mins * 60))\r\n",
        "    return elapsed_mins, elapsed_secs"
      ],
      "execution_count": 54,
      "outputs": []
    },
    {
      "cell_type": "code",
      "metadata": {
        "colab": {
          "base_uri": "https://localhost:8080/"
        },
        "id": "pvFzfefE9lF7",
        "outputId": "710d24f2-9b99-4720-97e3-204566fdf704"
      },
      "source": [
        "N_EPOCHS = 10\r\n",
        "CLIP = 1\r\n",
        "\r\n",
        "best_valid_loss = float('inf')\r\n",
        "\r\n",
        "for epoch in range(N_EPOCHS):\r\n",
        "    \r\n",
        "    start_time = time.time()\r\n",
        "    \r\n",
        "    train_loss = train(model, train_iterator, optimizer, criterion, CLIP)\r\n",
        "    valid_loss = evaluate(model, valid_iterator, criterion)\r\n",
        "    \r\n",
        "    end_time = time.time()\r\n",
        "    \r\n",
        "    epoch_mins, epoch_secs = epoch_time(start_time, end_time)\r\n",
        "    \r\n",
        "    if valid_loss < best_valid_loss:\r\n",
        "        best_valid_loss = valid_loss\r\n",
        "        torch.save(model.state_dict(), 'tut2-model.pt')\r\n",
        "    \r\n",
        "    print(f'Epoch: {epoch+1:02} | Time: {epoch_mins}m {epoch_secs}s')\r\n",
        "    print(f'\\tTrain Loss: {train_loss:.3f} | Train PPL: {math.exp(train_loss):7.3f}')\r\n",
        "    print(f'\\t Val. Loss: {valid_loss:.3f} |  Val. PPL: {math.exp(valid_loss):7.3f}')"
      ],
      "execution_count": 55,
      "outputs": [
        {
          "output_type": "stream",
          "text": [
            "Epoch: 01 | Time: 0m 16s\n",
            "\tTrain Loss: 4.787 | Train PPL: 119.999\n",
            "\t Val. Loss: 3.215 |  Val. PPL:  24.910\n",
            "Epoch: 02 | Time: 0m 15s\n",
            "\tTrain Loss: 3.253 | Train PPL:  25.864\n",
            "\t Val. Loss: 3.165 |  Val. PPL:  23.680\n",
            "Epoch: 03 | Time: 0m 16s\n",
            "\tTrain Loss: 3.064 | Train PPL:  21.415\n",
            "\t Val. Loss: 3.104 |  Val. PPL:  22.288\n",
            "Epoch: 04 | Time: 0m 16s\n",
            "\tTrain Loss: 3.008 | Train PPL:  20.250\n",
            "\t Val. Loss: 3.017 |  Val. PPL:  20.424\n",
            "Epoch: 05 | Time: 0m 15s\n",
            "\tTrain Loss: 2.917 | Train PPL:  18.481\n",
            "\t Val. Loss: 3.072 |  Val. PPL:  21.594\n",
            "Epoch: 06 | Time: 0m 16s\n",
            "\tTrain Loss: 2.864 | Train PPL:  17.528\n",
            "\t Val. Loss: 3.021 |  Val. PPL:  20.505\n",
            "Epoch: 07 | Time: 0m 16s\n",
            "\tTrain Loss: 2.786 | Train PPL:  16.220\n",
            "\t Val. Loss: 2.992 |  Val. PPL:  19.918\n",
            "Epoch: 08 | Time: 0m 16s\n",
            "\tTrain Loss: 2.698 | Train PPL:  14.847\n",
            "\t Val. Loss: 2.973 |  Val. PPL:  19.551\n",
            "Epoch: 09 | Time: 0m 16s\n",
            "\tTrain Loss: 2.581 | Train PPL:  13.215\n",
            "\t Val. Loss: 2.943 |  Val. PPL:  18.966\n",
            "Epoch: 10 | Time: 0m 15s\n",
            "\tTrain Loss: 2.477 | Train PPL:  11.906\n",
            "\t Val. Loss: 2.899 |  Val. PPL:  18.147\n"
          ],
          "name": "stdout"
        }
      ]
    }
  ]
}